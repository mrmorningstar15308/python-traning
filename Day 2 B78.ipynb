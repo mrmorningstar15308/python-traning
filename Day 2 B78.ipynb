{
 "cells": [
  {
   "cell_type": "code",
   "execution_count": null,
   "id": "b64ce582",
   "metadata": {},
   "outputs": [],
   "source": [
    "#Rule 1 No Name Space While Declaring The Variable Name"
   ]
  },
  {
   "cell_type": "code",
   "execution_count": null,
   "id": "ebe56b01",
   "metadata": {},
   "outputs": [],
   "source": [
    "#First Name ('Chahak') X"
   ]
  },
  {
   "cell_type": "code",
   "execution_count": 6,
   "id": "62b5e7a1",
   "metadata": {},
   "outputs": [
    {
     "ename": "SyntaxError",
     "evalue": "invalid syntax (3078799694.py, line 1)",
     "output_type": "error",
     "traceback": [
      "\u001b[1;36m  Cell \u001b[1;32mIn[6], line 1\u001b[1;36m\u001b[0m\n\u001b[1;33m    First Name ('Chahak Gandhi')\u001b[0m\n\u001b[1;37m          ^\u001b[0m\n\u001b[1;31mSyntaxError\u001b[0m\u001b[1;31m:\u001b[0m invalid syntax\n"
     ]
    }
   ],
   "source": [
    "First Name ('Chahak Gandhi')\n",
    "print ('First Name')"
   ]
  },
  {
   "cell_type": "code",
   "execution_count": 4,
   "id": "d1e0f8db",
   "metadata": {},
   "outputs": [
    {
     "name": "stdout",
     "output_type": "stream",
     "text": [
      "Firstname\n"
     ]
    }
   ],
   "source": [
    "Firstname= 'chahak'\n",
    "print ('Firstname')"
   ]
  },
  {
   "cell_type": "code",
   "execution_count": null,
   "id": "026138eb",
   "metadata": {},
   "outputs": [],
   "source": [
    "#Rule 2 A Variable Name Should Not Start With A Number"
   ]
  },
  {
   "cell_type": "code",
   "execution_count": null,
   "id": "bbb92aea",
   "metadata": {},
   "outputs": [],
   "source": [
    "#1name= ('chahak') x"
   ]
  },
  {
   "cell_type": "code",
   "execution_count": 5,
   "id": "f6f22720",
   "metadata": {},
   "outputs": [
    {
     "ename": "SyntaxError",
     "evalue": "invalid decimal literal (1783055787.py, line 1)",
     "output_type": "error",
     "traceback": [
      "\u001b[1;36m  Cell \u001b[1;32mIn[5], line 1\u001b[1;36m\u001b[0m\n\u001b[1;33m    1name= ('chahak')\u001b[0m\n\u001b[1;37m    ^\u001b[0m\n\u001b[1;31mSyntaxError\u001b[0m\u001b[1;31m:\u001b[0m invalid decimal literal\n"
     ]
    }
   ],
   "source": [
    "1name= ('chahak')\n",
    "print ('1name')"
   ]
  },
  {
   "cell_type": "code",
   "execution_count": 7,
   "id": "352b76ec",
   "metadata": {},
   "outputs": [
    {
     "name": "stdout",
     "output_type": "stream",
     "text": [
      "Name1\n"
     ]
    }
   ],
   "source": [
    "Name1= ('Chahak')\n",
    "print ('Name1')"
   ]
  },
  {
   "cell_type": "code",
   "execution_count": null,
   "id": "f656921b",
   "metadata": {},
   "outputs": [],
   "source": [
    "#Rule 3 A Variable Name Shuld Not Contain Special Characters"
   ]
  },
  {
   "cell_type": "code",
   "execution_count": 8,
   "id": "313b13c6",
   "metadata": {},
   "outputs": [
    {
     "ename": "NameError",
     "evalue": "name 'Name' is not defined",
     "output_type": "error",
     "traceback": [
      "\u001b[1;31m---------------------------------------------------------------------------\u001b[0m",
      "\u001b[1;31mNameError\u001b[0m                                 Traceback (most recent call last)",
      "Cell \u001b[1;32mIn[8], line 1\u001b[0m\n\u001b[1;32m----> 1\u001b[0m Name\u001b[38;5;241m@\u001b[39m\u001b[38;5;241m=\u001b[39m (\u001b[38;5;124m'\u001b[39m\u001b[38;5;124mchahak\u001b[39m\u001b[38;5;124m'\u001b[39m)\n\u001b[0;32m      2\u001b[0m \u001b[38;5;28mprint\u001b[39m (\u001b[38;5;124m'\u001b[39m\u001b[38;5;124mName@\u001b[39m\u001b[38;5;124m'\u001b[39m)\n",
      "\u001b[1;31mNameError\u001b[0m: name 'Name' is not defined"
     ]
    }
   ],
   "source": [
    "Name@= ('chahak')\n",
    "print ('Name@')"
   ]
  },
  {
   "cell_type": "code",
   "execution_count": null,
   "id": "3691e426",
   "metadata": {},
   "outputs": [],
   "source": [
    "#name@= ('chahak') x"
   ]
  },
  {
   "cell_type": "code",
   "execution_count": null,
   "id": "25be47b4",
   "metadata": {},
   "outputs": [],
   "source": []
  },
  {
   "cell_type": "code",
   "execution_count": null,
   "id": "cd426bf4",
   "metadata": {},
   "outputs": [],
   "source": [
    "#Intro To Datatypes In Python"
   ]
  },
  {
   "cell_type": "code",
   "execution_count": null,
   "id": "080b9bb3",
   "metadata": {},
   "outputs": [],
   "source": [
    "#1 String=str"
   ]
  },
  {
   "cell_type": "code",
   "execution_count": null,
   "id": "d50471e8",
   "metadata": {},
   "outputs": [],
   "source": [
    "#2 List= list"
   ]
  },
  {
   "cell_type": "code",
   "execution_count": null,
   "id": "de4c7f09",
   "metadata": {},
   "outputs": [],
   "source": [
    "#3 Tuples= Tuple"
   ]
  },
  {
   "cell_type": "code",
   "execution_count": null,
   "id": "9d2c3dd6",
   "metadata": {},
   "outputs": [],
   "source": [
    "#4 Dictionaries= Dict"
   ]
  },
  {
   "cell_type": "code",
   "execution_count": null,
   "id": "0629a5ef",
   "metadata": {},
   "outputs": [],
   "source": []
  },
  {
   "cell_type": "code",
   "execution_count": null,
   "id": "40d14550",
   "metadata": {},
   "outputs": [],
   "source": [
    "#Classification Of Datatypes"
   ]
  },
  {
   "cell_type": "code",
   "execution_count": null,
   "id": "6f7b78be",
   "metadata": {},
   "outputs": [],
   "source": [
    "#1 Mutable Datatypes ('which we can EDIT')"
   ]
  },
  {
   "cell_type": "code",
   "execution_count": null,
   "id": "b03154e1",
   "metadata": {},
   "outputs": [],
   "source": [
    "#2 Immutable Datatypes ('Which we cannot EDIT')"
   ]
  }
 ],
 "metadata": {
  "kernelspec": {
   "display_name": "Python 3 (ipykernel)",
   "language": "python",
   "name": "python3"
  },
  "language_info": {
   "codemirror_mode": {
    "name": "ipython",
    "version": 3
   },
   "file_extension": ".py",
   "mimetype": "text/x-python",
   "name": "python",
   "nbconvert_exporter": "python",
   "pygments_lexer": "ipython3",
   "version": "3.10.9"
  }
 },
 "nbformat": 4,
 "nbformat_minor": 5
}
